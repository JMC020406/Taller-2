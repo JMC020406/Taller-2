{
 "cells": [
  {
   "cell_type": "markdown",
   "metadata": {},
   "source": [
    "# Solucion de puntos pares Taller 2\n",
    "\n",
    "### Punto 2 / Separar dígitos que componen un número real"
   ]
  },
  {
   "cell_type": "code",
   "execution_count": 1,
   "metadata": {},
   "outputs": [
    {
     "name": "stdout",
     "output_type": "stream",
     "text": [
      "Los dígitos del número 123.0 son [1.0, 2.0, 3.0, 0.0]\n"
     ]
    }
   ],
   "source": [
    "def digitos_de_un_numero_2 (n=float)->list:     # Función de separar los dífitos de un numero real\n",
    "    if n < 0:\n",
    "        n = n * (-1)\n",
    "\n",
    "    n_entera = n // 1                           # Parte entera del número n\n",
    "    n_decimal = n % 1                           # Parte decimal del número n\n",
    "\n",
    "    while n_entera > 0:\n",
    "        x_0 = n_entera % 10\n",
    "        A.append(x_0)                           # Indexación de los dígitos de la parte entera\n",
    "        n_entera = n_entera // 10\n",
    "\n",
    "    while n_decimal < 1:\n",
    "        x_1 = (n_decimal * 10) // 1 \n",
    "        B.append(x_1)                           # Indexación de los dígitos de la parte decimal\n",
    "        n_decimal = (n_decimal * 10) - x_1\n",
    "        if n_decimal == 0:\n",
    "            break\n",
    "\n",
    "    lista_final= A[::-1] + B\n",
    "    return lista_final\n",
    "\n",
    "if __name__ == \"__main__\":\n",
    "    n=float(input(\"Ingrese un numero real: \"))\n",
    "    A = []\n",
    "    B = []\n",
    "\n",
    "    resultado = digitos_de_un_numero_2(n)\n",
    "\n",
    "print(f\"Los dígitos del número {n} son {resultado}\")    # Nota: Las aproximaciones que hace el sistema a los dígitos decimales hace que el programa funcione por más tiempo del que se requiere\n"
   ]
  },
  {
   "cell_type": "markdown",
   "metadata": {},
   "source": [
    "### Punto 4 / Calcule a partir de la sumatoria de Taylor una aproximación a Coseno."
   ]
  },
  {
   "cell_type": "code",
   "execution_count": 2,
   "metadata": {},
   "outputs": [
    {
     "name": "stdout",
     "output_type": "stream",
     "text": [
      "Con 86 iteraciones la aproximación es -0.532833122822521, mientras que el valor real es -0.532833122822521. Eso quiere decir que hay una diferencia porcentual de 1.92347545322491e-05\n"
     ]
    }
   ],
   "source": [
    "import math\n",
    "\n",
    "def aproximación_de_coseno (x = float)->float:\n",
    "\n",
    "    cosx = 0\n",
    "\n",
    "    for wa in range (86):                               # Nota: el rango del ciclo for es 86 ya que de ahi en adelante empieza a aparecer error de que el enetero es muy largo como para convertirlo en un real\n",
    "\n",
    "        factorial = 1                                   # Casos base para el cálculo de la aproximación de coseno       \n",
    "        n = 1\n",
    "\n",
    "        while n <= wa*2:                                # Valor del denominador en  la sumatoria\n",
    "            factorial *= n          \n",
    "            n += 1\n",
    "\n",
    "        potencia = x**(2*wa)                            # Valor del numerador en la sumatoria\n",
    "\n",
    "        signo = (-1)**wa\n",
    "\n",
    "        cosx = cosx + (signo * (potencia/factorial))    # Sumatoria para dar la aproximación de coseno\n",
    "\n",
    "    return cosx\n",
    "\n",
    "if __name__ == \"__main__\":\n",
    "\n",
    "    x=float(input(\"Ingrese el número del cual quiere saber el coseno: \"))\n",
    "\n",
    "valor_real = math.cos(x)                                # Valor real\n",
    "valor_aprox = aproximación_de_coseno(x)\n",
    "porcentaje = (valor_aprox * 100)/math.cos(x) - 100      # Comparación de que tan lejos está la aproximación al valor real\n",
    "\n",
    "print (f\"Con 86 iteraciones la aproximación es {valor_aprox}, mientras que el valor real es {valor_aprox}. Eso quiere decir que hay una diferencia porcentual de {porcentaje}\")\n"
   ]
  },
  {
   "cell_type": "markdown",
   "metadata": {},
   "source": [
    "### Punto 6 / Confirme si hay algun elemento en alguna de las dos listas que se repita en la otra."
   ]
  },
  {
   "cell_type": "code",
   "execution_count": 3,
   "metadata": {},
   "outputs": [
    {
     "name": "stdout",
     "output_type": "stream",
     "text": [
      "Las listas A = ['3', '2', '3', '2', '3', '3', '2', '2', '3', '3', '344', '3', '3', '32', '2', '2', '3', '3', '3', '33', '32', '', '22'] y B = ['2', '3', '3', '3', '3', '3', '3', '3', '3', '32', '', '2', '2', '2', '3', '3', '', '', '', '', '', '2', '2'] no tienen elementos repetidos\n"
     ]
    }
   ],
   "source": [
    "def chequeo_listas (A=list, B=list, c=int)->list:\n",
    "\n",
    "    for i in range (c):\n",
    "        if A[i] in B:                                               # Los elementos que contienen las listas se repiten\n",
    "            verdadero_o_falso = True\n",
    "\n",
    "        else:                                                       # Los elementos que contienen las no listas se repiten\n",
    "            verdadero_o_falso = False\n",
    "\n",
    "    return verdadero_o_falso\n",
    "\n",
    "\n",
    "if __name__ == \"__main__\":\n",
    "    c=int(input(\"Ingrese la cantidad de elementos que va a agregar a las listas: \"))    # Límite para llenar las listas\n",
    "    A=[]\n",
    "    B=[]\n",
    "    verdadero_o_falso : bool = False\n",
    "\n",
    "    for i in range (c):\n",
    "        a=input(f\"Ingrese el {i+1} elemento de la primera lista: \")                     # Indexar los elementos que se quieren para la lista A\n",
    "        A.append(a)\n",
    "\n",
    "    for i in range (c):\n",
    "        b=input(f\"Ingrese el {i+1} elemento de la segunda lista: \")                     # Indexar los elementos que se quieren para la lista B\n",
    "        B.append(b)\n",
    "\n",
    "if chequeo_listas(A, B, c) == True:                                                     # Es verdadero\n",
    "    print (f\"Las listas A = {A} y B = {B} tienen elementos repetidos\")\n",
    "\n",
    "else:                                                                                   # Es falso\n",
    "    print (f\"Las listas A = {A} y B = {B} no tienen elementos repetidos\")\n"
   ]
  },
  {
   "cell_type": "markdown",
   "metadata": {},
   "source": [
    "### Punto 8 / Haga una lista de los elementos existenetes en la primera lista y ausentes en la segunda."
   ]
  },
  {
   "cell_type": "code",
   "execution_count": 4,
   "metadata": {},
   "outputs": [
    {
     "name": "stdout",
     "output_type": "stream",
     "text": [
      "Los elementos que estan en A = ['2', ''] y no en B = ['', '2'], son C = []\n"
     ]
    }
   ],
   "source": [
    "def elementos_de_a_ausentes_en_b (A=list, B=list, c=int):\n",
    "\n",
    "    for i in range (c):\n",
    "        if A[i] in B:                                                                   # Condicional\n",
    "            continue\n",
    "        else:\n",
    "            C.append(A[i])                                                              # Indexación elementos ausentes en B pero existentes en A\n",
    "\n",
    "    return C\n",
    "\n",
    "if __name__ == \"__main__\":\n",
    "    c=int(input(\"Ingrese la cantidad de elementos que va a agregar a las listas: \"))    # Límite para llenar las listas\n",
    "    A=[]\n",
    "    B=[]\n",
    "    C=[]\n",
    "\n",
    "    for i in range (c):\n",
    "        a=input(f\"Ingrese el {i+1} elemento de la primera lista: \")                     # Indexar los elementos que se quieren para la lista A\n",
    "        A.append(a)\n",
    "\n",
    "    for i in range (c):\n",
    "        b=input(f\"Ingrese el {i+1} elemento de la segunda lista: \")                     # Indexar los elementos que se quieren para la lista B\n",
    "        B.append(b)\n",
    "\n",
    "elementos_ausentes = elementos_de_a_ausentes_en_b (A, B, c)\n",
    "\n",
    "print (f\"Los elementos que estan en A = {A} y no en B = {B}, son C = {elementos_ausentes}\")\n"
   ]
  },
  {
   "cell_type": "markdown",
   "metadata": {},
   "source": [
    "### Punto 10 / Saque lo numeros divisibles por tres de un vector cualquiera (use la propiedad de divisivilidad del 3)."
   ]
  },
  {
   "cell_type": "code",
   "execution_count": 6,
   "metadata": {},
   "outputs": [
    {
     "name": "stdout",
     "output_type": "stream",
     "text": [
      "Los múltiplos de 3 son: [3, 9, 9]\n"
     ]
    }
   ],
   "source": [
    "def es_multiplo_de_3(numero):\n",
    "    # Suma de los dígitos del número\n",
    "    suma_digitos = sum(int(digito) for digito in str(abs(numero)))\n",
    "    # Un número es múltiplo de 3 si la suma de sus dígitos es múltiplo de 3\n",
    "    return suma_digitos in {0, 3, 6, 9}\n",
    "\n",
    "def obtener_multiplos_de_3(lista):\n",
    "    multiplos_de_3 = [num for num in lista if es_multiplo_de_3(num)]\n",
    "    return multiplos_de_3\n",
    "\n",
    "def ingresar_lista():\n",
    "    lista = list(map(int, input(\"Ingrese los números enteros separados por espacios: \").split()))\n",
    "    return lista\n",
    "\n",
    "# Ejemplo de uso\n",
    "lista = ingresar_lista()\n",
    "multiplos_de_3 = obtener_multiplos_de_3(lista)\n",
    "print(\"Los múltiplos de 3 son:\", multiplos_de_3)"
   ]
  }
 ],
 "metadata": {
  "kernelspec": {
   "display_name": "Python 3",
   "language": "python",
   "name": "python3"
  },
  "language_info": {
   "codemirror_mode": {
    "name": "ipython",
    "version": 3
   },
   "file_extension": ".py",
   "mimetype": "text/x-python",
   "name": "python",
   "nbconvert_exporter": "python",
   "pygments_lexer": "ipython3",
   "version": "3.12.2"
  }
 },
 "nbformat": 4,
 "nbformat_minor": 2
}
